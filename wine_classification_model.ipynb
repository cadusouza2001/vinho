{
  "cells": [
    {
      "cell_type": "markdown",
      "source": [
        "# Baixar dataset e instalar dependências"
      ],
      "metadata": {
        "id": "FfBCwvHaxJ-8"
      },
      "id": "FfBCwvHaxJ-8"
    },
    {
      "cell_type": "code",
      "source": [
        "%cd /content\n",
        "!git clone https://github.com/cadusouza2001/vinho.git\n",
        "%cd vinho\n",
        "!pip install -q pandas scikit-learn tensorflow matplotlib"
      ],
      "metadata": {
        "colab": {
          "base_uri": "https://localhost:8080/"
        },
        "id": "R7QttBKLpIRA",
        "outputId": "97cc853b-3675-48e6-ba78-6eda39fb2bbc"
      },
      "id": "R7QttBKLpIRA",
      "execution_count": null,
      "outputs": [
        {
          "output_type": "stream",
          "name": "stdout",
          "text": [
            "/content\n",
            "Cloning into 'vinho'...\n",
            "remote: Enumerating objects: 34, done.\u001b[K\n",
            "remote: Counting objects: 100% (34/34), done.\u001b[K\n",
            "remote: Compressing objects: 100% (26/26), done.\u001b[K\n",
            "remote: Total 34 (delta 13), reused 27 (delta 6), pack-reused 0 (from 0)\u001b[K\n",
            "Receiving objects: 100% (34/34), 315.19 KiB | 1.25 MiB/s, done.\n",
            "Resolving deltas: 100% (13/13), done.\n",
            "/content/vinho\n"
          ]
        }
      ]
    },
    {
      "cell_type": "markdown",
      "source": [
        "# Realizar Imports"
      ],
      "metadata": {
        "id": "zAX-OXl9xC6O"
      },
      "id": "zAX-OXl9xC6O"
    },
    {
      "cell_type": "code",
      "source": [
        "import pandas as pd\n",
        "import numpy as np\n",
        "import seaborn as sns\n",
        "import matplotlib.pyplot as plt\n",
        "from sklearn.model_selection import train_test_split\n",
        "from sklearn.preprocessing import StandardScaler\n",
        "from sklearn.metrics import classification_report, confusion_matrix, ConfusionMatrixDisplay\n",
        "from imblearn.over_sampling import SMOTE\n",
        "import tensorflow as tf\n",
        "from tensorflow.keras.models import Sequential\n",
        "from tensorflow.keras.layers import Dense, Dropout, BatchNormalization\n",
        "from tensorflow.keras.utils import to_categorical\n",
        "from tensorflow.keras.callbacks import EarlyStopping"
      ],
      "metadata": {
        "id": "mSBdQ-x6w8pA"
      },
      "id": "mSBdQ-x6w8pA",
      "execution_count": null,
      "outputs": []
    },
    {
      "cell_type": "markdown",
      "source": [
        "# Preparação dos dados"
      ],
      "metadata": {
        "id": "RudyghgDxSNb"
      },
      "id": "RudyghgDxSNb"
    },
    {
      "cell_type": "code",
      "source": [
        "# --- 1. Carregamento e Preparação dos Dados ---\n",
        "\n",
        "# Carrega os dados de vinho tinto e branco\n",
        "red = pd.read_csv('winequality-red.csv', sep=';')\n",
        "white = pd.read_csv('winequality-white.csv', sep=';')\n",
        "\n",
        "# Adiciona a coluna 'type' para diferenciar os vinhos (0 = tinto, 1 = branco)\n",
        "red['type'] = 0\n",
        "white['type'] = 1\n",
        "\n",
        "# Combina os dois datasets\n",
        "data = pd.concat([red, white], ignore_index=True)"
      ],
      "metadata": {
        "id": "pCN3L92Ex3Y4"
      },
      "id": "pCN3L92Ex3Y4",
      "execution_count": null,
      "outputs": []
    },
    {
      "cell_type": "code",
      "source": [
        "# --- 2. Agrupamento de Classes e Pré-processamento ---\n",
        "\n",
        "# Função para agrupar as qualidades em 3 classes: Ruim, Médio, Bom\n",
        "def agrupar_qualidade(q):\n",
        "    if q <= 4:\n",
        "        return 0 # Classe 'Ruim'\n",
        "    elif q <= 7:\n",
        "        return 1 # Classe 'Médio'\n",
        "    else:\n",
        "        return 2 # Classe 'Bom'\n",
        "\n",
        "data['quality_grouped'] = data['quality'].apply(agrupar_qualidade)\n",
        "\n",
        "# Visualiza a nova distribuição das classes\n",
        "plt.figure(figsize=(8, 5))\n",
        "sns.countplot(x='quality_grouped', data=data, palette='viridis')\n",
        "plt.title('Distribuição das Classes Agrupadas')\n",
        "plt.xlabel('Classe de Qualidade')\n",
        "plt.xticks(ticks=[0, 1, 2], labels=['Ruim (3-4)', 'Médio (5-7)', 'Bom (8-9)'])\n",
        "plt.ylabel('Contagem')\n",
        "plt.show()\n",
        "\n",
        "# Define o número de classes para o nosso novo problema\n",
        "num_classes = 3\n",
        "\n",
        "# Separa as features (X) e o novo rótulo agrupado (y)\n",
        "X = data.drop(['quality', 'quality_grouped'], axis=1)\n",
        "y = data['quality_grouped']\n",
        "\n",
        "# Divisão inicial em treino+validação (80%) e teste (20%) com estratificação\n",
        "X_train_full, X_test, y_train_full, y_test = train_test_split(\n",
        "    X, y, test_size=0.2, random_state=42, stratify=y\n",
        ")\n",
        "\n",
        "# Divisão do conjunto de treino em treino e validação\n",
        "X_train, X_val, y_train, y_val = train_test_split(\n",
        "    X_train_full, y_train_full, test_size=0.2, random_state=42, stratify=y_train_full\n",
        ")\n",
        "\n",
        "# Padronização das Features\n",
        "scaler = StandardScaler()\n",
        "X_train_scaled = scaler.fit_transform(X_train)\n",
        "X_val_scaled = scaler.transform(X_val)\n",
        "X_test_scaled = scaler.transform(X_test)"
      ],
      "metadata": {
        "colab": {
          "base_uri": "https://localhost:8080/",
          "height": 574
        },
        "id": "iR1I-LVMx40w",
        "outputId": "21ec60ea-e7c7-4c2f-a7ff-a961c8ad53de"
      },
      "id": "iR1I-LVMx40w",
      "execution_count": null,
      "outputs": [
        {
          "output_type": "stream",
          "name": "stderr",
          "text": [
            "/tmp/ipython-input-4-2526003179.py:16: FutureWarning: \n",
            "\n",
            "Passing `palette` without assigning `hue` is deprecated and will be removed in v0.14.0. Assign the `x` variable to `hue` and set `legend=False` for the same effect.\n",
            "\n",
            "  sns.countplot(x='quality_grouped', data=data, palette='viridis')\n"
          ]
        },
        {
          "output_type": "display_data",
          "data": {
            "text/plain": [
              "<Figure size 800x500 with 1 Axes>"
            ],
            "image/png": "[encoded data removed]"
          },
          "metadata": {}
        }
      ]
    },
    {
      "cell_type": "code",
      "source": [
        "# --- 3. Lidando com o Desbalanceamento (SMOTE) ---\n",
        "\n",
        "# Aplica o SMOTE APENAS no conjunto de treino\n",
        "# Com as classes agrupadas, o default k_neighbors=5 deve funcionar sem erro.\n",
        "smote = SMOTE(random_state=42)\n",
        "X_train_resampled, y_train_resampled = smote.fit_resample(X_train_scaled, y_train)\n",
        "\n",
        "# Converte os rótulos para o formato one-hot\n",
        "y_train_resampled_cat = to_categorical(y_train_resampled, num_classes=num_classes)\n",
        "y_val_cat = to_categorical(y_val, num_classes=num_classes)"
      ],
      "metadata": {
        "id": "XWlSi5evyBDk"
      },
      "id": "XWlSi5evyBDk",
      "execution_count": null,
      "outputs": []
    },
    {
      "cell_type": "markdown",
      "source": [
        "# Construção do modelo de classificação"
      ],
      "metadata": {
        "id": "31A93SjHyH8G"
      },
      "id": "31A93SjHyH8G"
    },
    {
      "cell_type": "code",
      "source": [
        "# --- 4. Construção do Modelo de Classificação Multiclasse ---\n",
        "\n",
        "model = Sequential([\n",
        "    Dense(128, activation='relu', input_shape=(X_train_scaled.shape[1],)),\n",
        "    BatchNormalization(),\n",
        "    Dropout(0.4),\n",
        "\n",
        "    Dense(64, activation='relu'),\n",
        "    BatchNormalization(),\n",
        "    Dropout(0.3),\n",
        "\n",
        "    # Camada de saída com 3 neurônios (um para cada classe) e ativação 'softmax'\n",
        "    Dense(num_classes, activation='softmax')\n",
        "])\n",
        "\n",
        "# Compila o modelo\n",
        "model.compile(\n",
        "    optimizer='adam',\n",
        "    loss='categorical_crossentropy',\n",
        "    metrics=['accuracy']\n",
        ")\n",
        "\n",
        "model.summary()"
      ],
      "metadata": {
        "colab": {
          "base_uri": "https://localhost:8080/",
          "height": 440
        },
        "id": "xH6ANDlAyEOl",
        "outputId": "b32f229d-17e0-4552-a7c8-f76e5ce6b538"
      },
      "id": "xH6ANDlAyEOl",
      "execution_count": null,
      "outputs": [
        {
          "output_type": "stream",
          "name": "stderr",
          "text": [
            "/usr/local/lib/python3.11/dist-packages/keras/src/layers/core/dense.py:87: UserWarning: Do not pass an `input_shape`/`input_dim` argument to a layer. When using Sequential models, prefer using an `Input(shape)` object as the first layer in the model instead.\n",
            "  super().__init__(activity_regularizer=activity_regularizer, **kwargs)\n"
          ]
        },
        {
          "output_type": "display_data",
          "data": {
            "text/plain": [
              "\u001b[1mModel: \"sequential\"\u001b[0m\n"
            ],
            "text/html": [
              "<pre style=\"white-space:pre;overflow-x:auto;line-height:normal;font-family:Menlo,'DejaVu Sans Mono',consolas,'Courier New',monospace\"><span style=\"font-weight: bold\">Model: \"sequential\"</span>\n",
              "</pre>\n"
            ]
          },
          "metadata": {}
        },
        {
          "output_type": "display_data",
          "data": {
            "text/plain": [
              "┏━━━━━━━━━━━━━━━━━━━━━━━━━━━━━━━━━┳━━━━━━━━━━━━━━━━━━━━━━━━┳━━━━━━━━━━━━━━━┓\n",
              "┃\u001b[1m \u001b[0m\u001b[1mLayer (type)                   \u001b[0m\u001b[1m \u001b[0m┃\u001b[1m \u001b[0m\u001b[1mOutput Shape          \u001b[0m\u001b[1m \u001b[0m┃\u001b[1m \u001b[0m\u001b[1m      Param #\u001b[0m\u001b[1m \u001b[0m┃\n",
              "┡━━━━━━━━━━━━━━━━━━━━━━━━━━━━━━━━━╇━━━━━━━━━━━━━━━━━━━━━━━━╇━━━━━━━━━━━━━━━┩\n",
              "│ dense (\u001b[38;5;33mDense\u001b[0m)                   │ (\u001b[38;5;45mNone\u001b[0m, \u001b[38;5;34m128\u001b[0m)            │         \u001b[38;5;34m1,664\u001b[0m │\n",
              "├─────────────────────────────────┼────────────────────────┼───────────────┤\n",
              "│ batch_normalization             │ (\u001b[38;5;45mNone\u001b[0m, \u001b[38;5;34m128\u001b[0m)            │           \u001b[38;5;34m512\u001b[0m │\n",
              "│ (\u001b[38;5;33mBatchNormalization\u001b[0m)            │                        │               │\n",
              "├─────────────────────────────────┼────────────────────────┼───────────────┤\n",
              "│ dropout (\u001b[38;5;33mDropout\u001b[0m)               │ (\u001b[38;5;45mNone\u001b[0m, \u001b[38;5;34m128\u001b[0m)            │             \u001b[38;5;34m0\u001b[0m │\n",
              "├─────────────────────────────────┼────────────────────────┼───────────────┤\n",
              "│ dense_1 (\u001b[38;5;33mDense\u001b[0m)                 │ (\u001b[38;5;45mNone\u001b[0m, \u001b[38;5;34m64\u001b[0m)             │         \u001b[38;5;34m8,256\u001b[0m │\n",
              "├─────────────────────────────────┼────────────────────────┼───────────────┤\n",
              "│ batch_normalization_1           │ (\u001b[38;5;45mNone\u001b[0m, \u001b[38;5;34m64\u001b[0m)             │           \u001b[38;5;34m256\u001b[0m │\n",
              "│ (\u001b[38;5;33mBatchNormalization\u001b[0m)            │                        │               │\n",
              "├─────────────────────────────────┼────────────────────────┼───────────────┤\n",
              "│ dropout_1 (\u001b[38;5;33mDropout\u001b[0m)             │ (\u001b[38;5;45mNone\u001b[0m, \u001b[38;5;34m64\u001b[0m)             │             \u001b[38;5;34m0\u001b[0m │\n",
              "├─────────────────────────────────┼────────────────────────┼───────────────┤\n",
              "│ dense_2 (\u001b[38;5;33mDense\u001b[0m)                 │ (\u001b[38;5;45mNone\u001b[0m, \u001b[38;5;34m3\u001b[0m)              │           \u001b[38;5;34m195\u001b[0m │\n",
              "└─────────────────────────────────┴────────────────────────┴───────────────┘\n"
            ],
            "text/html": [
              "<pre style=\"white-space:pre;overflow-x:auto;line-height:normal;font-family:Menlo,'DejaVu Sans Mono',consolas,'Courier New',monospace\">┏━━━━━━━━━━━━━━━━━━━━━━━━━━━━━━━━━┳━━━━━━━━━━━━━━━━━━━━━━━━┳━━━━━━━━━━━━━━━┓\n",
              "┃<span style=\"font-weight: bold\"> Layer (type)                    </span>┃<span style=\"font-weight: bold\"> Output Shape           </span>┃<span style=\"font-weight: bold\">       Param # </span>┃\n",
              "┡━━━━━━━━━━━━━━━━━━━━━━━━━━━━━━━━━╇━━━━━━━━━━━━━━━━━━━━━━━━╇━━━━━━━━━━━━━━━┩\n",
              "│ dense (<span style=\"color: #0087ff; text-decoration-color: #0087ff\">Dense</span>)                   │ (<span style=\"color: #00d7ff; text-decoration-color: #00d7ff\">None</span>, <span style=\"color: #00af00; text-decoration-color: #00af00\">128</span>)            │         <span style=\"color: #00af00; text-decoration-color: #00af00\">1,664</span> │\n",
              "├─────────────────────────────────┼────────────────────────┼───────────────┤\n",
              "│ batch_normalization             │ (<span style=\"color: #00d7ff; text-decoration-color: #00d7ff\">None</span>, <span style=\"color: #00af00; text-decoration-color: #00af00\">128</span>)            │           <span style=\"color: #00af00; text-decoration-color: #00af00\">512</span> │\n",
              "│ (<span style=\"color: #0087ff; text-decoration-color: #0087ff\">BatchNormalization</span>)            │                        │               │\n",
              "├─────────────────────────────────┼────────────────────────┼───────────────┤\n",
              "│ dropout (<span style=\"color: #0087ff; text-decoration-color: #0087ff\">Dropout</span>)               │ (<span style=\"color: #00d7ff; text-decoration-color: #00d7ff\">None</span>, <span style=\"color: #00af00; text-decoration-color: #00af00\">128</span>)            │             <span style=\"color: #00af00; text-decoration-color: #00af00\">0</span> │\n",
              "├─────────────────────────────────┼────────────────────────┼───────────────┤\n",
              "│ dense_1 (<span style=\"color: #0087ff; text-decoration-color: #0087ff\">Dense</span>)                 │ (<span style=\"color: #00d7ff; text-decoration-color: #00d7ff\">None</span>, <span style=\"color: #00af00; text-decoration-color: #00af00\">64</span>)             │         <span style=\"color: #00af00; text-decoration-color: #00af00\">8,256</span> │\n",
              "├─────────────────────────────────┼────────────────────────┼───────────────┤\n",
              "│ batch_normalization_1           │ (<span style=\"color: #00d7ff; text-decoration-color: #00d7ff\">None</span>, <span style=\"color: #00af00; text-decoration-color: #00af00\">64</span>)             │           <span style=\"color: #00af00; text-decoration-color: #00af00\">256</span> │\n",
              "│ (<span style=\"color: #0087ff; text-decoration-color: #0087ff\">BatchNormalization</span>)            │                        │               │\n",
              "├─────────────────────────────────┼────────────────────────┼───────────────┤\n",
              "│ dropout_1 (<span style=\"color: #0087ff; text-decoration-color: #0087ff\">Dropout</span>)             │ (<span style=\"color: #00d7ff; text-decoration-color: #00d7ff\">None</span>, <span style=\"color: #00af00; text-decoration-color: #00af00\">64</span>)             │             <span style=\"color: #00af00; text-decoration-color: #00af00\">0</span> │\n",
              "├─────────────────────────────────┼────────────────────────┼───────────────┤\n",
              "│ dense_2 (<span style=\"color: #0087ff; text-decoration-color: #0087ff\">Dense</span>)                 │ (<span style=\"color: #00d7ff; text-decoration-color: #00d7ff\">None</span>, <span style=\"color: #00af00; text-decoration-color: #00af00\">3</span>)              │           <span style=\"color: #00af00; text-decoration-color: #00af00\">195</span> │\n",
              "└─────────────────────────────────┴────────────────────────┴───────────────┘\n",
              "</pre>\n"
            ]
          },
          "metadata": {}
        },
        {
          "output_type": "display_data",
          "data": {
            "text/plain": [
              "\u001b[1m Total params: \u001b[0m\u001b[38;5;34m10,883\u001b[0m (42.51 KB)\n"
            ],
            "text/html": [
              "<pre style=\"white-space:pre;overflow-x:auto;line-height:normal;font-family:Menlo,'DejaVu Sans Mono',consolas,'Courier New',monospace\"><span style=\"font-weight: bold\"> Total params: </span><span style=\"color: #00af00; text-decoration-color: #00af00\">10,883</span> (42.51 KB)\n",
              "</pre>\n"
            ]
          },
          "metadata": {}
        },
        {
          "output_type": "display_data",
          "data": {
            "text/plain": [
              "\u001b[1m Trainable params: \u001b[0m\u001b[38;5;34m10,499\u001b[0m (41.01 KB)\n"
            ],
            "text/html": [
              "<pre style=\"white-space:pre;overflow-x:auto;line-height:normal;font-family:Menlo,'DejaVu Sans Mono',consolas,'Courier New',monospace\"><span style=\"font-weight: bold\"> Trainable params: </span><span style=\"color: #00af00; text-decoration-color: #00af00\">10,499</span> (41.01 KB)\n",
              "</pre>\n"
            ]
          },
          "metadata": {}
        },
        {
          "output_type": "display_data",
          "data": {
            "text/plain": [
              "\u001b[1m Non-trainable params: \u001b[0m\u001b[38;5;34m384\u001b[0m (1.50 KB)\n"
            ],
            "text/html": [
              "<pre style=\"white-space:pre;overflow-x:auto;line-height:normal;font-family:Menlo,'DejaVu Sans Mono',consolas,'Courier New',monospace\"><span style=\"font-weight: bold\"> Non-trainable params: </span><span style=\"color: #00af00; text-decoration-color: #00af00\">384</span> (1.50 KB)\n",
              "</pre>\n"
            ]
          },
          "metadata": {}
        }
      ]
    },
    {
      "cell_type": "markdown",
      "source": [
        "# Treinamento do modelo"
      ],
      "metadata": {
        "id": "lL59VXlFyMvO"
      },
      "id": "lL59VXlFyMvO"
    },
    {
      "cell_type": "code",
      "source": [
        "# --- 5. Treinamento do Modelo ---\n",
        "\n",
        "# Callback para parar o treinamento\n",
        "early_stop = EarlyStopping(monitor='val_loss', patience=20, restore_best_weights=True, verbose=1)\n",
        "\n",
        "history = model.fit(\n",
        "    X_train_resampled, y_train_resampled_cat,\n",
        "    epochs=200,\n",
        "    batch_size=64,\n",
        "    validation_data=(X_val_scaled, y_val_cat),\n",
        "    callbacks=[early_stop]\n",
        ")"
      ],
      "metadata": {
        "colab": {
          "base_uri": "https://localhost:8080/"
        },
        "id": "BNj_4GTvpBOQ",
        "outputId": "8a1ab46b-188d-4a65-d2a7-4c09f9974a81"
      },
      "id": "BNj_4GTvpBOQ",
      "execution_count": null,
      "outputs": [
        {
          "output_type": "stream",
          "name": "stdout",
          "text": [
            "Epoch 1/200\n",
            "\u001b[1m182/182\u001b[0m \u001b[32m━━━━━━━━━━━━━━━━━━━━\u001b[0m\u001b[37m\u001b[0m \u001b[1m12s\u001b[0m 40ms/step - accuracy: 0.5423 - loss: 1.1342 - val_accuracy: 0.5106 - val_loss: 0.9391\n",
            "Epoch 2/200\n",
            "\u001b[1m182/182\u001b[0m \u001b[32m━━━━━━━━━━━━━━━━━━━━\u001b[0m\u001b[37m\u001b[0m \u001b[1m1s\u001b[0m 5ms/step - accuracy: 0.6934 - loss: 0.7080 - val_accuracy: 0.5413 - val_loss: 0.8935\n",
            "Epoch 3/200\n",
            "\u001b[1m182/182\u001b[0m \u001b[32m━━━━━━━━━━━━━━━━━━━━\u001b[0m\u001b[37m\u001b[0m \u001b[1m1s\u001b[0m 6ms/step - accuracy: 0.7134 - loss: 0.6493 - val_accuracy: 0.4875 - val_loss: 0.9337\n",
            "Epoch 4/200\n",
            "\u001b[1m182/182\u001b[0m \u001b[32m━━━━━━━━━━━━━━━━━━━━\u001b[0m\u001b[37m\u001b[0m \u001b[1m2s\u001b[0m 8ms/step - accuracy: 0.7327 - loss: 0.6124 - val_accuracy: 0.5471 - val_loss: 0.8603\n",
            "Epoch 5/200\n",
            "\u001b[1m182/182\u001b[0m \u001b[32m━━━━━━━━━━━━━━━━━━━━\u001b[0m\u001b[37m\u001b[0m \u001b[1m2s\u001b[0m 10ms/step - accuracy: 0.7555 - loss: 0.5706 - val_accuracy: 0.5779 - val_loss: 0.8284\n",
            "Epoch 6/200\n",
            "\u001b[1m182/182\u001b[0m \u001b[32m━━━━━━━━━━━━━━━━━━━━\u001b[0m\u001b[37m\u001b[0m \u001b[1m2s\u001b[0m 7ms/step - accuracy: 0.7580 - loss: 0.5470 - val_accuracy: 0.5567 - val_loss: 0.8588\n",
            "Epoch 7/200\n",
            "\u001b[1m182/182\u001b[0m \u001b[32m━━━━━━━━━━━━━━━━━━━━\u001b[0m\u001b[37m\u001b[0m \u001b[1m2s\u001b[0m 3ms/step - accuracy: 0.7687 - loss: 0.5304 - val_accuracy: 0.6298 - val_loss: 0.7743\n",
            "Epoch 8/200\n",
            "\u001b[1m182/182\u001b[0m \u001b[32m━━━━━━━━━━━━━━━━━━━━\u001b[0m\u001b[37m\u001b[0m \u001b[1m1s\u001b[0m 3ms/step - accuracy: 0.7917 - loss: 0.5007 - val_accuracy: 0.5990 - val_loss: 0.8010\n",
            "Epoch 9/200\n",
            "\u001b[1m182/182\u001b[0m \u001b[32m━━━━━━━━━━━━━━━━━━━━\u001b[0m\u001b[37m\u001b[0m \u001b[1m1s\u001b[0m 3ms/step - accuracy: 0.7844 - loss: 0.5055 - val_accuracy: 0.5798 - val_loss: 0.8431\n",
            "Epoch 10/200\n",
            "\u001b[1m182/182\u001b[0m \u001b[32m━━━━━━━━━━━━━━━━━━━━\u001b[0m\u001b[37m\u001b[0m \u001b[1m1s\u001b[0m 3ms/step - accuracy: 0.7905 - loss: 0.4930 - val_accuracy: 0.6163 - val_loss: 0.7747\n",
            "Epoch 11/200\n",
            "\u001b[1m182/182\u001b[0m \u001b[32m━━━━━━━━━━━━━━━━━━━━\u001b[0m\u001b[37m\u001b[0m \u001b[1m1s\u001b[0m 3ms/step - accuracy: 0.8003 - loss: 0.4737 - val_accuracy: 0.6221 - val_loss: 0.7666\n",
            "Epoch 12/200\n",
            "\u001b[1m182/182\u001b[0m \u001b[32m━━━━━━━━━━━━━━━━━━━━\u001b[0m\u001b[37m\u001b[0m \u001b[1m1s\u001b[0m 4ms/step - accuracy: 0.8098 - loss: 0.4659 - val_accuracy: 0.5913 - val_loss: 0.8092\n",
            "Epoch 13/200\n",
            "\u001b[1m182/182\u001b[0m \u001b[32m━━━━━━━━━━━━━━━━━━━━\u001b[0m\u001b[37m\u001b[0m \u001b[1m1s\u001b[0m 3ms/step - accuracy: 0.8137 - loss: 0.4490 - val_accuracy: 0.6519 - val_loss: 0.7074\n",
            "Epoch 14/200\n",
            "\u001b[1m182/182\u001b[0m \u001b[32m━━━━━━━━━━━━━━━━━━━━\u001b[0m\u001b[37m\u001b[0m \u001b[1m1s\u001b[0m 3ms/step - accuracy: 0.8235 - loss: 0.4317 - val_accuracy: 0.6250 - val_loss: 0.7669\n",
            "Epoch 15/200\n",
            "\u001b[1m182/182\u001b[0m \u001b[32m━━━━━━━━━━━━━━━━━━━━\u001b[0m\u001b[37m\u001b[0m \u001b[1m1s\u001b[0m 3ms/step - accuracy: 0.8250 - loss: 0.4187 - val_accuracy: 0.6673 - val_loss: 0.7117\n",
            "Epoch 16/200\n",
            "\u001b[1m182/182\u001b[0m \u001b[32m━━━━━━━━━━━━━━━━━━━━\u001b[0m\u001b[37m\u001b[0m \u001b[1m1s\u001b[0m 3ms/step - accuracy: 0.8322 - loss: 0.4112 - val_accuracy: 0.6625 - val_loss: 0.6955\n",
            "Epoch 17/200\n",
            "\u001b[1m182/182\u001b[0m \u001b[32m━━━━━━━━━━━━━━━━━━━━\u001b[0m\u001b[37m\u001b[0m \u001b[1m1s\u001b[0m 3ms/step - accuracy: 0.8355 - loss: 0.4114 - val_accuracy: 0.6462 - val_loss: 0.7302\n",
            "Epoch 18/200\n",
            "\u001b[1m182/182\u001b[0m \u001b[32m━━━━━━━━━━━━━━━━━━━━\u001b[0m\u001b[37m\u001b[0m \u001b[1m1s\u001b[0m 4ms/step - accuracy: 0.8341 - loss: 0.4085 - val_accuracy: 0.6606 - val_loss: 0.7137\n",
            "Epoch 19/200\n",
            "\u001b[1m182/182\u001b[0m \u001b[32m━━━━━━━━━━━━━━━━━━━━\u001b[0m\u001b[37m\u001b[0m \u001b[1m1s\u001b[0m 5ms/step - accuracy: 0.8435 - loss: 0.3830 - val_accuracy: 0.6817 - val_loss: 0.6840\n",
            "Epoch 20/200\n",
            "\u001b[1m182/182\u001b[0m \u001b[32m━━━━━━━━━━━━━━━━━━━━\u001b[0m\u001b[37m\u001b[0m \u001b[1m1s\u001b[0m 4ms/step - accuracy: 0.8457 - loss: 0.3855 - val_accuracy: 0.7010 - val_loss: 0.6670\n",
            "Epoch 21/200\n",
            "\u001b[1m182/182\u001b[0m \u001b[32m━━━━━━━━━━━━━━━━━━━━\u001b[0m\u001b[37m\u001b[0m \u001b[1m1s\u001b[0m 3ms/step - accuracy: 0.8511 - loss: 0.3836 - val_accuracy: 0.6731 - val_loss: 0.7022\n",
            "Epoch 22/200\n",
            "\u001b[1m182/182\u001b[0m \u001b[32m━━━━━━━━━━━━━━━━━━━━\u001b[0m\u001b[37m\u001b[0m \u001b[1m1s\u001b[0m 3ms/step - accuracy: 0.8460 - loss: 0.3850 - val_accuracy: 0.7096 - val_loss: 0.6435\n",
            "Epoch 23/200\n",
            "\u001b[1m182/182\u001b[0m \u001b[32m━━━━━━━━━━━━━━━━━━━━\u001b[0m\u001b[37m\u001b[0m \u001b[1m1s\u001b[0m 3ms/step - accuracy: 0.8518 - loss: 0.3701 - val_accuracy: 0.7000 - val_loss: 0.6610\n",
            "Epoch 24/200\n",
            "\u001b[1m182/182\u001b[0m \u001b[32m━━━━━━━━━━━━━━━━━━━━\u001b[0m\u001b[37m\u001b[0m \u001b[1m1s\u001b[0m 3ms/step - accuracy: 0.8561 - loss: 0.3656 - val_accuracy: 0.7058 - val_loss: 0.6569\n",
            "Epoch 25/200\n",
            "\u001b[1m182/182\u001b[0m \u001b[32m━━━━━━━━━━━━━━━━━━━━\u001b[0m\u001b[37m\u001b[0m \u001b[1m1s\u001b[0m 3ms/step - accuracy: 0.8613 - loss: 0.3545 - val_accuracy: 0.7327 - val_loss: 0.6182\n",
            "Epoch 26/200\n",
            "\u001b[1m182/182\u001b[0m \u001b[32m━━━━━━━━━━━━━━━━━━━━\u001b[0m\u001b[37m\u001b[0m \u001b[1m1s\u001b[0m 3ms/step - accuracy: 0.8550 - loss: 0.3512 - val_accuracy: 0.6962 - val_loss: 0.6685\n",
            "Epoch 27/200\n",
            "\u001b[1m182/182\u001b[0m \u001b[32m━━━━━━━━━━━━━━━━━━━━\u001b[0m\u001b[37m\u001b[0m \u001b[1m1s\u001b[0m 3ms/step - accuracy: 0.8615 - loss: 0.3491 - val_accuracy: 0.7240 - val_loss: 0.6659\n",
            "Epoch 28/200\n",
            "\u001b[1m182/182\u001b[0m \u001b[32m━━━━━━━━━━━━━━━━━━━━\u001b[0m\u001b[37m\u001b[0m \u001b[1m1s\u001b[0m 3ms/step - accuracy: 0.8638 - loss: 0.3476 - val_accuracy: 0.7212 - val_loss: 0.6435\n",
            "Epoch 29/200\n",
            "\u001b[1m182/182\u001b[0m \u001b[32m━━━━━━━━━━━━━━━━━━━━\u001b[0m\u001b[37m\u001b[0m \u001b[1m1s\u001b[0m 3ms/step - accuracy: 0.8690 - loss: 0.3435 - val_accuracy: 0.7471 - val_loss: 0.5894\n",
            "Epoch 30/200\n",
            "\u001b[1m182/182\u001b[0m \u001b[32m━━━━━━━━━━━━━━━━━━━━\u001b[0m\u001b[37m\u001b[0m \u001b[1m1s\u001b[0m 3ms/step - accuracy: 0.8744 - loss: 0.3248 - val_accuracy: 0.7413 - val_loss: 0.5743\n",
            "Epoch 31/200\n",
            "\u001b[1m182/182\u001b[0m \u001b[32m━━━━━━━━━━━━━━━━━━━━\u001b[0m\u001b[37m\u001b[0m \u001b[1m1s\u001b[0m 3ms/step - accuracy: 0.8750 - loss: 0.3283 - val_accuracy: 0.7327 - val_loss: 0.6102\n",
            "Epoch 32/200\n",
            "\u001b[1m182/182\u001b[0m \u001b[32m━━━━━━━━━━━━━━━━━━━━\u001b[0m\u001b[37m\u001b[0m \u001b[1m1s\u001b[0m 3ms/step - accuracy: 0.8698 - loss: 0.3268 - val_accuracy: 0.7183 - val_loss: 0.6488\n",
            "Epoch 33/200\n",
            "\u001b[1m182/182\u001b[0m \u001b[32m━━━━━━━━━━━━━━━━━━━━\u001b[0m\u001b[37m\u001b[0m \u001b[1m1s\u001b[0m 3ms/step - accuracy: 0.8694 - loss: 0.3297 - val_accuracy: 0.7500 - val_loss: 0.5731\n",
            "Epoch 34/200\n",
            "\u001b[1m182/182\u001b[0m \u001b[32m━━━━━━━━━━━━━━━━━━━━\u001b[0m\u001b[37m\u001b[0m \u001b[1m1s\u001b[0m 3ms/step - accuracy: 0.8745 - loss: 0.3226 - val_accuracy: 0.7404 - val_loss: 0.5883\n",
            "Epoch 35/200\n",
            "\u001b[1m182/182\u001b[0m \u001b[32m━━━━━━━━━━━━━━━━━━━━\u001b[0m\u001b[37m\u001b[0m \u001b[1m1s\u001b[0m 3ms/step - accuracy: 0.8731 - loss: 0.3201 - val_accuracy: 0.7635 - val_loss: 0.5762\n",
            "Epoch 36/200\n",
            "\u001b[1m182/182\u001b[0m \u001b[32m━━━━━━━━━━━━━━━━━━━━\u001b[0m\u001b[37m\u001b[0m \u001b[1m1s\u001b[0m 4ms/step - accuracy: 0.8822 - loss: 0.3103 - val_accuracy: 0.7423 - val_loss: 0.5923\n",
            "Epoch 37/200\n",
            "\u001b[1m182/182\u001b[0m \u001b[32m━━━━━━━━━━━━━━━━━━━━\u001b[0m\u001b[37m\u001b[0m \u001b[1m1s\u001b[0m 5ms/step - accuracy: 0.8769 - loss: 0.3164 - val_accuracy: 0.7548 - val_loss: 0.5872\n",
            "Epoch 38/200\n",
            "\u001b[1m182/182\u001b[0m \u001b[32m━━━━━━━━━━━━━━━━━━━━\u001b[0m\u001b[37m\u001b[0m \u001b[1m1s\u001b[0m 3ms/step - accuracy: 0.8714 - loss: 0.3211 - val_accuracy: 0.7635 - val_loss: 0.5585\n",
            "Epoch 39/200\n",
            "\u001b[1m182/182\u001b[0m \u001b[32m━━━━━━━━━━━━━━━━━━━━\u001b[0m\u001b[37m\u001b[0m \u001b[1m1s\u001b[0m 3ms/step - accuracy: 0.8884 - loss: 0.3017 - val_accuracy: 0.7365 - val_loss: 0.6145\n",
            "Epoch 40/200\n",
            "\u001b[1m182/182\u001b[0m \u001b[32m━━━━━━━━━━━━━━━━━━━━\u001b[0m\u001b[37m\u001b[0m \u001b[1m1s\u001b[0m 3ms/step - accuracy: 0.8785 - loss: 0.3171 - val_accuracy: 0.7327 - val_loss: 0.6133\n",
            "Epoch 41/200\n",
            "\u001b[1m182/182\u001b[0m \u001b[32m━━━━━━━━━━━━━━━━━━━━\u001b[0m\u001b[37m\u001b[0m \u001b[1m1s\u001b[0m 3ms/step - accuracy: 0.8778 - loss: 0.3141 - val_accuracy: 0.7577 - val_loss: 0.5827\n",
            "Epoch 42/200\n",
            "\u001b[1m182/182\u001b[0m \u001b[32m━━━━━━━━━━━━━━━━━━━━\u001b[0m\u001b[37m\u001b[0m \u001b[1m1s\u001b[0m 3ms/step - accuracy: 0.8785 - loss: 0.3048 - val_accuracy: 0.7750 - val_loss: 0.5502\n",
            "Epoch 43/200\n",
            "\u001b[1m182/182\u001b[0m \u001b[32m━━━━━━━━━━━━━━━━━━━━\u001b[0m\u001b[37m\u001b[0m \u001b[1m1s\u001b[0m 3ms/step - accuracy: 0.8829 - loss: 0.2944 - val_accuracy: 0.7615 - val_loss: 0.5755\n",
            "Epoch 44/200\n",
            "\u001b[1m182/182\u001b[0m \u001b[32m━━━━━━━━━━━━━━━━━━━━\u001b[0m\u001b[37m\u001b[0m \u001b[1m1s\u001b[0m 3ms/step - accuracy: 0.8811 - loss: 0.3056 - val_accuracy: 0.7827 - val_loss: 0.5495\n",
            "Epoch 45/200\n",
            "\u001b[1m182/182\u001b[0m \u001b[32m━━━━━━━━━━━━━━━━━━━━\u001b[0m\u001b[37m\u001b[0m \u001b[1m1s\u001b[0m 3ms/step - accuracy: 0.8871 - loss: 0.2948 - val_accuracy: 0.7413 - val_loss: 0.6181\n",
            "Epoch 46/200\n",
            "\u001b[1m182/182\u001b[0m \u001b[32m━━━━━━━━━━━━━━━━━━━━\u001b[0m\u001b[37m\u001b[0m \u001b[1m1s\u001b[0m 3ms/step - accuracy: 0.8835 - loss: 0.3014 - val_accuracy: 0.7692 - val_loss: 0.5616\n",
            "Epoch 47/200\n",
            "\u001b[1m182/182\u001b[0m \u001b[32m━━━━━━━━━━━━━━━━━━━━\u001b[0m\u001b[37m\u001b[0m \u001b[1m1s\u001b[0m 3ms/step - accuracy: 0.8878 - loss: 0.2955 - val_accuracy: 0.7635 - val_loss: 0.5590\n",
            "Epoch 48/200\n",
            "\u001b[1m182/182\u001b[0m \u001b[32m━━━━━━━━━━━━━━━━━━━━\u001b[0m\u001b[37m\u001b[0m \u001b[1m1s\u001b[0m 3ms/step - accuracy: 0.8881 - loss: 0.2868 - val_accuracy: 0.7798 - val_loss: 0.5645\n",
            "Epoch 49/200\n",
            "\u001b[1m182/182\u001b[0m \u001b[32m━━━━━━━━━━━━━━━━━━━━\u001b[0m\u001b[37m\u001b[0m \u001b[1m1s\u001b[0m 3ms/step - accuracy: 0.8899 - loss: 0.2812 - val_accuracy: 0.7769 - val_loss: 0.5749\n",
            "Epoch 50/200\n",
            "\u001b[1m182/182\u001b[0m \u001b[32m━━━━━━━━━━━━━━━━━━━━\u001b[0m\u001b[37m\u001b[0m \u001b[1m1s\u001b[0m 3ms/step - accuracy: 0.8882 - loss: 0.2915 - val_accuracy: 0.7731 - val_loss: 0.5543\n",
            "Epoch 51/200\n",
            "\u001b[1m182/182\u001b[0m \u001b[32m━━━━━━━━━━━━━━━━━━━━\u001b[0m\u001b[37m\u001b[0m \u001b[1m1s\u001b[0m 3ms/step - accuracy: 0.8935 - loss: 0.2739 - val_accuracy: 0.7615 - val_loss: 0.5868\n",
            "Epoch 52/200\n",
            "\u001b[1m182/182\u001b[0m \u001b[32m━━━━━━━━━━━━━━━━━━━━\u001b[0m\u001b[37m\u001b[0m \u001b[1m1s\u001b[0m 3ms/step - accuracy: 0.8923 - loss: 0.2878 - val_accuracy: 0.7712 - val_loss: 0.5588\n",
            "Epoch 53/200\n",
            "\u001b[1m182/182\u001b[0m \u001b[32m━━━━━━━━━━━━━━━━━━━━\u001b[0m\u001b[37m\u001b[0m \u001b[1m1s\u001b[0m 3ms/step - accuracy: 0.8859 - loss: 0.2972 - val_accuracy: 0.7635 - val_loss: 0.5784\n",
            "Epoch 54/200\n",
            "\u001b[1m182/182\u001b[0m \u001b[32m━━━━━━━━━━━━━━━━━━━━\u001b[0m\u001b[37m\u001b[0m \u001b[1m1s\u001b[0m 3ms/step - accuracy: 0.8873 - loss: 0.2843 - val_accuracy: 0.7788 - val_loss: 0.5656\n",
            "Epoch 55/200\n",
            "\u001b[1m182/182\u001b[0m \u001b[32m━━━━━━━━━━━━━━━━━━━━\u001b[0m\u001b[37m\u001b[0m \u001b[1m1s\u001b[0m 5ms/step - accuracy: 0.8964 - loss: 0.2798 - val_accuracy: 0.7712 - val_loss: 0.5774\n",
            "Epoch 56/200\n",
            "\u001b[1m182/182\u001b[0m \u001b[32m━━━━━━━━━━━━━━━━━━━━\u001b[0m\u001b[37m\u001b[0m \u001b[1m1s\u001b[0m 4ms/step - accuracy: 0.8924 - loss: 0.2859 - val_accuracy: 0.7596 - val_loss: 0.5925\n",
            "Epoch 57/200\n",
            "\u001b[1m182/182\u001b[0m \u001b[32m━━━━━━━━━━━━━━━━━━━━\u001b[0m\u001b[37m\u001b[0m \u001b[1m1s\u001b[0m 3ms/step - accuracy: 0.8908 - loss: 0.2757 - val_accuracy: 0.7500 - val_loss: 0.6010\n",
            "Epoch 58/200\n",
            "\u001b[1m182/182\u001b[0m \u001b[32m━━━━━━━━━━━━━━━━━━━━\u001b[0m\u001b[37m\u001b[0m \u001b[1m1s\u001b[0m 3ms/step - accuracy: 0.8978 - loss: 0.2696 - val_accuracy: 0.7635 - val_loss: 0.5791\n",
            "Epoch 59/200\n",
            "\u001b[1m182/182\u001b[0m \u001b[32m━━━━━━━━━━━━━━━━━━━━\u001b[0m\u001b[37m\u001b[0m \u001b[1m1s\u001b[0m 3ms/step - accuracy: 0.9010 - loss: 0.2702 - val_accuracy: 0.7913 - val_loss: 0.5394\n",
            "Epoch 60/200\n",
            "\u001b[1m182/182\u001b[0m \u001b[32m━━━━━━━━━━━━━━━━━━━━\u001b[0m\u001b[37m\u001b[0m \u001b[1m1s\u001b[0m 3ms/step - accuracy: 0.9005 - loss: 0.2666 - val_accuracy: 0.7885 - val_loss: 0.5338\n",
            "Epoch 61/200\n",
            "\u001b[1m182/182\u001b[0m \u001b[32m━━━━━━━━━━━━━━━━━━━━\u001b[0m\u001b[37m\u001b[0m \u001b[1m1s\u001b[0m 3ms/step - accuracy: 0.8911 - loss: 0.2819 - val_accuracy: 0.7808 - val_loss: 0.5500\n",
            "Epoch 62/200\n",
            "\u001b[1m182/182\u001b[0m \u001b[32m━━━━━━━━━━━━━━━━━━━━\u001b[0m\u001b[37m\u001b[0m \u001b[1m1s\u001b[0m 3ms/step - accuracy: 0.8975 - loss: 0.2753 - val_accuracy: 0.7779 - val_loss: 0.5674\n",
            "Epoch 63/200\n",
            "\u001b[1m182/182\u001b[0m \u001b[32m━━━━━━━━━━━━━━━━━━━━\u001b[0m\u001b[37m\u001b[0m \u001b[1m1s\u001b[0m 3ms/step - accuracy: 0.8939 - loss: 0.2769 - val_accuracy: 0.7827 - val_loss: 0.5528\n",
            "Epoch 64/200\n",
            "\u001b[1m182/182\u001b[0m \u001b[32m━━━━━━━━━━━━━━━━━━━━\u001b[0m\u001b[37m\u001b[0m \u001b[1m1s\u001b[0m 3ms/step - accuracy: 0.9012 - loss: 0.2684 - val_accuracy: 0.7798 - val_loss: 0.5446\n",
            "Epoch 65/200\n",
            "\u001b[1m182/182\u001b[0m \u001b[32m━━━━━━━━━━━━━━━━━━━━\u001b[0m\u001b[37m\u001b[0m \u001b[1m1s\u001b[0m 3ms/step - accuracy: 0.9015 - loss: 0.2659 - val_accuracy: 0.7846 - val_loss: 0.5463\n",
            "Epoch 66/200\n",
            "\u001b[1m182/182\u001b[0m \u001b[32m━━━━━━━━━━━━━━━━━━━━\u001b[0m\u001b[37m\u001b[0m \u001b[1m1s\u001b[0m 3ms/step - accuracy: 0.8997 - loss: 0.2659 - val_accuracy: 0.7827 - val_loss: 0.5578\n",
            "Epoch 67/200\n",
            "\u001b[1m182/182\u001b[0m \u001b[32m━━━━━━━━━━━━━━━━━━━━\u001b[0m\u001b[37m\u001b[0m \u001b[1m1s\u001b[0m 3ms/step - accuracy: 0.9003 - loss: 0.2622 - val_accuracy: 0.7740 - val_loss: 0.5775\n",
            "Epoch 68/200\n",
            "\u001b[1m182/182\u001b[0m \u001b[32m━━━━━━━━━━━━━━━━━━━━\u001b[0m\u001b[37m\u001b[0m \u001b[1m1s\u001b[0m 3ms/step - accuracy: 0.8987 - loss: 0.2678 - val_accuracy: 0.7779 - val_loss: 0.5550\n",
            "Epoch 69/200\n",
            "\u001b[1m182/182\u001b[0m \u001b[32m━━━━━━━━━━━━━━━━━━━━\u001b[0m\u001b[37m\u001b[0m \u001b[1m1s\u001b[0m 3ms/step - accuracy: 0.9110 - loss: 0.2428 - val_accuracy: 0.7923 - val_loss: 0.5474\n",
            "Epoch 70/200\n",
            "\u001b[1m182/182\u001b[0m \u001b[32m━━━━━━━━━━━━━━━━━━━━\u001b[0m\u001b[37m\u001b[0m \u001b[1m1s\u001b[0m 3ms/step - accuracy: 0.8990 - loss: 0.2729 - val_accuracy: 0.7846 - val_loss: 0.5606\n",
            "Epoch 71/200\n",
            "\u001b[1m182/182\u001b[0m \u001b[32m━━━━━━━━━━━━━━━━━━━━\u001b[0m\u001b[37m\u001b[0m \u001b[1m1s\u001b[0m 3ms/step - accuracy: 0.9006 - loss: 0.2621 - val_accuracy: 0.7962 - val_loss: 0.5527\n",
            "Epoch 72/200\n",
            "\u001b[1m182/182\u001b[0m \u001b[32m━━━━━━━━━━━━━━━━━━━━\u001b[0m\u001b[37m\u001b[0m \u001b[1m1s\u001b[0m 4ms/step - accuracy: 0.8989 - loss: 0.2677 - val_accuracy: 0.7971 - val_loss: 0.5367\n",
            "Epoch 73/200\n",
            "\u001b[1m182/182\u001b[0m \u001b[32m━━━━━━━━━━━━━━━━━━━━\u001b[0m\u001b[37m\u001b[0m \u001b[1m1s\u001b[0m 5ms/step - accuracy: 0.8952 - loss: 0.2731 - val_accuracy: 0.8029 - val_loss: 0.5238\n",
            "Epoch 74/200\n",
            "\u001b[1m182/182\u001b[0m \u001b[32m━━━━━━━━━━━━━━━━━━━━\u001b[0m\u001b[37m\u001b[0m \u001b[1m1s\u001b[0m 3ms/step - accuracy: 0.8953 - loss: 0.2660 - val_accuracy: 0.8115 - val_loss: 0.5166\n",
            "Epoch 75/200\n",
            "\u001b[1m182/182\u001b[0m \u001b[32m━━━━━━━━━━━━━━━━━━━━\u001b[0m\u001b[37m\u001b[0m \u001b[1m1s\u001b[0m 3ms/step - accuracy: 0.9037 - loss: 0.2604 - val_accuracy: 0.7952 - val_loss: 0.5356\n",
            "Epoch 76/200\n",
            "\u001b[1m182/182\u001b[0m \u001b[32m━━━━━━━━━━━━━━━━━━━━\u001b[0m\u001b[37m\u001b[0m \u001b[1m1s\u001b[0m 3ms/step - accuracy: 0.9089 - loss: 0.2463 - val_accuracy: 0.7942 - val_loss: 0.5280\n",
            "Epoch 77/200\n",
            "\u001b[1m182/182\u001b[0m \u001b[32m━━━━━━━━━━━━━━━━━━━━\u001b[0m\u001b[37m\u001b[0m \u001b[1m1s\u001b[0m 3ms/step - accuracy: 0.8989 - loss: 0.2578 - val_accuracy: 0.7933 - val_loss: 0.5554\n",
            "Epoch 78/200\n",
            "\u001b[1m182/182\u001b[0m \u001b[32m━━━━━━━━━━━━━━━━━━━━\u001b[0m\u001b[37m\u001b[0m \u001b[1m1s\u001b[0m 3ms/step - accuracy: 0.9071 - loss: 0.2594 - val_accuracy: 0.7837 - val_loss: 0.5636\n",
            "Epoch 79/200\n",
            "\u001b[1m182/182\u001b[0m \u001b[32m━━━━━━━━━━━━━━━━━━━━\u001b[0m\u001b[37m\u001b[0m \u001b[1m1s\u001b[0m 3ms/step - accuracy: 0.8994 - loss: 0.2692 - val_accuracy: 0.7904 - val_loss: 0.5622\n",
            "Epoch 80/200\n",
            "\u001b[1m182/182\u001b[0m \u001b[32m━━━━━━━━━━━━━━━━━━━━\u001b[0m\u001b[37m\u001b[0m \u001b[1m1s\u001b[0m 3ms/step - accuracy: 0.8998 - loss: 0.2634 - val_accuracy: 0.8058 - val_loss: 0.5232\n",
            "Epoch 81/200\n",
            "\u001b[1m182/182\u001b[0m \u001b[32m━━━━━━━━━━━━━━━━━━━━\u001b[0m\u001b[37m\u001b[0m \u001b[1m1s\u001b[0m 3ms/step - accuracy: 0.9050 - loss: 0.2563 - val_accuracy: 0.7990 - val_loss: 0.5423\n",
            "Epoch 82/200\n",
            "\u001b[1m182/182\u001b[0m \u001b[32m━━━━━━━━━━━━━━━━━━━━\u001b[0m\u001b[37m\u001b[0m \u001b[1m1s\u001b[0m 3ms/step - accuracy: 0.8999 - loss: 0.2627 - val_accuracy: 0.7942 - val_loss: 0.5353\n",
            "Epoch 83/200\n",
            "\u001b[1m182/182\u001b[0m \u001b[32m━━━━━━━━━━━━━━━━━━━━\u001b[0m\u001b[37m\u001b[0m \u001b[1m1s\u001b[0m 3ms/step - accuracy: 0.9011 - loss: 0.2597 - val_accuracy: 0.7837 - val_loss: 0.5440\n",
            "Epoch 84/200\n",
            "\u001b[1m182/182\u001b[0m \u001b[32m━━━━━━━━━━━━━━━━━━━━\u001b[0m\u001b[37m\u001b[0m \u001b[1m1s\u001b[0m 3ms/step - accuracy: 0.8971 - loss: 0.2667 - val_accuracy: 0.7846 - val_loss: 0.5691\n",
            "Epoch 85/200\n",
            "\u001b[1m182/182\u001b[0m \u001b[32m━━━━━━━━━━━━━━━━━━━━\u001b[0m\u001b[37m\u001b[0m \u001b[1m1s\u001b[0m 3ms/step - accuracy: 0.9068 - loss: 0.2509 - val_accuracy: 0.8010 - val_loss: 0.5223\n",
            "Epoch 86/200\n",
            "\u001b[1m182/182\u001b[0m \u001b[32m━━━━━━━━━━━━━━━━━━━━\u001b[0m\u001b[37m\u001b[0m \u001b[1m1s\u001b[0m 3ms/step - accuracy: 0.9032 - loss: 0.2568 - val_accuracy: 0.7923 - val_loss: 0.5362\n",
            "Epoch 87/200\n",
            "\u001b[1m182/182\u001b[0m \u001b[32m━━━━━━━━━━━━━━━━━━━━\u001b[0m\u001b[37m\u001b[0m \u001b[1m1s\u001b[0m 3ms/step - accuracy: 0.9018 - loss: 0.2589 - val_accuracy: 0.7885 - val_loss: 0.5699\n",
            "Epoch 88/200\n",
            "\u001b[1m182/182\u001b[0m \u001b[32m━━━━━━━━━━━━━━━━━━━━\u001b[0m\u001b[37m\u001b[0m \u001b[1m1s\u001b[0m 3ms/step - accuracy: 0.9096 - loss: 0.2452 - val_accuracy: 0.7933 - val_loss: 0.5493\n",
            "Epoch 89/200\n",
            "\u001b[1m182/182\u001b[0m \u001b[32m━━━━━━━━━━━━━━━━━━━━\u001b[0m\u001b[37m\u001b[0m \u001b[1m1s\u001b[0m 3ms/step - accuracy: 0.9041 - loss: 0.2536 - val_accuracy: 0.7875 - val_loss: 0.5504\n",
            "Epoch 90/200\n",
            "\u001b[1m182/182\u001b[0m \u001b[32m━━━━━━━━━━━━━━━━━━━━\u001b[0m\u001b[37m\u001b[0m \u001b[1m1s\u001b[0m 3ms/step - accuracy: 0.9032 - loss: 0.2517 - val_accuracy: 0.7904 - val_loss: 0.5489\n",
            "Epoch 91/200\n",
            "\u001b[1m182/182\u001b[0m \u001b[32m━━━━━━━━━━━━━━━━━━━━\u001b[0m\u001b[37m\u001b[0m \u001b[1m1s\u001b[0m 5ms/step - accuracy: 0.9030 - loss: 0.2524 - val_accuracy: 0.7865 - val_loss: 0.5640\n",
            "Epoch 92/200\n",
            "\u001b[1m182/182\u001b[0m \u001b[32m━━━━━━━━━━━━━━━━━━━━\u001b[0m\u001b[37m\u001b[0m \u001b[1m1s\u001b[0m 5ms/step - accuracy: 0.9028 - loss: 0.2552 - val_accuracy: 0.7913 - val_loss: 0.5485\n",
            "Epoch 93/200\n",
            "\u001b[1m182/182\u001b[0m \u001b[32m━━━━━━━━━━━━━━━━━━━━\u001b[0m\u001b[37m\u001b[0m \u001b[1m1s\u001b[0m 3ms/step - accuracy: 0.9052 - loss: 0.2503 - val_accuracy: 0.8000 - val_loss: 0.5265\n",
            "Epoch 94/200\n",
            "\u001b[1m182/182\u001b[0m \u001b[32m━━━━━━━━━━━━━━━━━━━━\u001b[0m\u001b[37m\u001b[0m \u001b[1m1s\u001b[0m 3ms/step - accuracy: 0.8976 - loss: 0.2696 - val_accuracy: 0.7962 - val_loss: 0.5107\n",
            "Epoch 95/200\n",
            "\u001b[1m182/182\u001b[0m \u001b[32m━━━━━━━━━━━━━━━━━━━━\u001b[0m\u001b[37m\u001b[0m \u001b[1m1s\u001b[0m 3ms/step - accuracy: 0.9106 - loss: 0.2402 - val_accuracy: 0.8067 - val_loss: 0.5139\n",
            "Epoch 96/200\n",
            "\u001b[1m182/182\u001b[0m \u001b[32m━━━━━━━━━━━━━━━━━━━━\u001b[0m\u001b[37m\u001b[0m \u001b[1m1s\u001b[0m 3ms/step - accuracy: 0.9027 - loss: 0.2549 - val_accuracy: 0.7913 - val_loss: 0.5658\n",
            "Epoch 97/200\n",
            "\u001b[1m182/182\u001b[0m \u001b[32m━━━━━━━━━━━━━━━━━━━━\u001b[0m\u001b[37m\u001b[0m \u001b[1m1s\u001b[0m 3ms/step - accuracy: 0.9085 - loss: 0.2487 - val_accuracy: 0.7971 - val_loss: 0.5545\n",
            "Epoch 98/200\n",
            "\u001b[1m182/182\u001b[0m \u001b[32m━━━━━━━━━━━━━━━━━━━━\u001b[0m\u001b[37m\u001b[0m \u001b[1m1s\u001b[0m 3ms/step - accuracy: 0.9131 - loss: 0.2383 - val_accuracy: 0.7962 - val_loss: 0.5349\n",
            "Epoch 99/200\n",
            "\u001b[1m182/182\u001b[0m \u001b[32m━━━━━━━━━━━━━━━━━━━━\u001b[0m\u001b[37m\u001b[0m \u001b[1m1s\u001b[0m 3ms/step - accuracy: 0.9077 - loss: 0.2425 - val_accuracy: 0.8038 - val_loss: 0.5525\n",
            "Epoch 100/200\n",
            "\u001b[1m182/182\u001b[0m \u001b[32m━━━━━━━━━━━━━━━━━━━━\u001b[0m\u001b[37m\u001b[0m \u001b[1m1s\u001b[0m 3ms/step - accuracy: 0.9087 - loss: 0.2443 - val_accuracy: 0.8048 - val_loss: 0.5217\n",
            "Epoch 101/200\n",
            "\u001b[1m182/182\u001b[0m \u001b[32m━━━━━━━━━━━━━━━━━━━━\u001b[0m\u001b[37m\u001b[0m \u001b[1m1s\u001b[0m 3ms/step - accuracy: 0.8994 - loss: 0.2614 - val_accuracy: 0.7808 - val_loss: 0.5710\n",
            "Epoch 102/200\n",
            "\u001b[1m182/182\u001b[0m \u001b[32m━━━━━━━━━━━━━━━━━━━━\u001b[0m\u001b[37m\u001b[0m \u001b[1m1s\u001b[0m 3ms/step - accuracy: 0.8992 - loss: 0.2621 - val_accuracy: 0.7942 - val_loss: 0.5484\n",
            "Epoch 103/200\n",
            "\u001b[1m182/182\u001b[0m \u001b[32m━━━━━━━━━━━━━━━━━━━━\u001b[0m\u001b[37m\u001b[0m \u001b[1m1s\u001b[0m 4ms/step - accuracy: 0.9036 - loss: 0.2492 - val_accuracy: 0.7923 - val_loss: 0.5693\n",
            "Epoch 104/200\n",
            "\u001b[1m182/182\u001b[0m \u001b[32m━━━━━━━━━━━━━━━━━━━━\u001b[0m\u001b[37m\u001b[0m \u001b[1m1s\u001b[0m 5ms/step - accuracy: 0.9132 - loss: 0.2355 - val_accuracy: 0.8154 - val_loss: 0.5221\n",
            "Epoch 105/200\n",
            "\u001b[1m182/182\u001b[0m \u001b[32m━━━━━━━━━━━━━━━━━━━━\u001b[0m\u001b[37m\u001b[0m \u001b[1m1s\u001b[0m 4ms/step - accuracy: 0.9151 - loss: 0.2326 - val_accuracy: 0.8144 - val_loss: 0.5159\n",
            "Epoch 106/200\n",
            "\u001b[1m182/182\u001b[0m \u001b[32m━━━━━━━━━━━━━━━━━━━━\u001b[0m\u001b[37m\u001b[0m \u001b[1m1s\u001b[0m 5ms/step - accuracy: 0.9101 - loss: 0.2468 - val_accuracy: 0.8048 - val_loss: 0.5328\n",
            "Epoch 107/200\n",
            "\u001b[1m182/182\u001b[0m \u001b[32m━━━━━━━━━━━━━━━━━━━━\u001b[0m\u001b[37m\u001b[0m \u001b[1m1s\u001b[0m 4ms/step - accuracy: 0.9121 - loss: 0.2437 - val_accuracy: 0.7962 - val_loss: 0.5536\n",
            "Epoch 108/200\n",
            "\u001b[1m182/182\u001b[0m \u001b[32m━━━━━━━━━━━━━━━━━━━━\u001b[0m\u001b[37m\u001b[0m \u001b[1m1s\u001b[0m 3ms/step - accuracy: 0.9058 - loss: 0.2570 - val_accuracy: 0.8154 - val_loss: 0.5249\n",
            "Epoch 109/200\n",
            "\u001b[1m182/182\u001b[0m \u001b[32m━━━━━━━━━━━━━━━━━━━━\u001b[0m\u001b[37m\u001b[0m \u001b[1m1s\u001b[0m 3ms/step - accuracy: 0.9099 - loss: 0.2309 - val_accuracy: 0.8096 - val_loss: 0.5264\n",
            "Epoch 110/200\n",
            "\u001b[1m182/182\u001b[0m \u001b[32m━━━━━━━━━━━━━━━━━━━━\u001b[0m\u001b[37m\u001b[0m \u001b[1m1s\u001b[0m 3ms/step - accuracy: 0.9057 - loss: 0.2459 - val_accuracy: 0.8038 - val_loss: 0.5331\n",
            "Epoch 111/200\n",
            "\u001b[1m182/182\u001b[0m \u001b[32m━━━━━━━━━━━━━━━━━━━━\u001b[0m\u001b[37m\u001b[0m \u001b[1m1s\u001b[0m 3ms/step - accuracy: 0.9074 - loss: 0.2414 - val_accuracy: 0.8077 - val_loss: 0.5457\n",
            "Epoch 112/200\n",
            "\u001b[1m182/182\u001b[0m \u001b[32m━━━━━━━━━━━━━━━━━━━━\u001b[0m\u001b[37m\u001b[0m \u001b[1m1s\u001b[0m 3ms/step - accuracy: 0.9095 - loss: 0.2461 - val_accuracy: 0.7942 - val_loss: 0.5735\n",
            "Epoch 113/200\n",
            "\u001b[1m182/182\u001b[0m \u001b[32m━━━━━━━━━━━━━━━━━━━━\u001b[0m\u001b[37m\u001b[0m \u001b[1m1s\u001b[0m 3ms/step - accuracy: 0.9049 - loss: 0.2434 - val_accuracy: 0.7923 - val_loss: 0.5555\n",
            "Epoch 114/200\n",
            "\u001b[1m182/182\u001b[0m \u001b[32m━━━━━━━━━━━━━━━━━━━━\u001b[0m\u001b[37m\u001b[0m \u001b[1m1s\u001b[0m 3ms/step - accuracy: 0.9025 - loss: 0.2498 - val_accuracy: 0.8000 - val_loss: 0.5455\n",
            "Epoch 114: early stopping\n",
            "Restoring model weights from the end of the best epoch: 94.\n"
          ]
        }
      ]
    },
    {
      "cell_type": "markdown",
      "source": [
        "# Avaliação do modelo"
      ],
      "metadata": {
        "id": "jcH_Z4bnyUIp"
      },
      "id": "jcH_Z4bnyUIp"
    },
    {
      "cell_type": "code",
      "source": [
        "# --- 6. Avaliação do Modelo Final ---\n",
        "\n",
        "print(\"\\n--- Avaliação no Conjunto de Teste ---\")\n",
        "\n",
        "# Faz as previsões no conjunto de teste\n",
        "y_pred_probs = model.predict(X_test_scaled)\n",
        "y_pred_classes = np.argmax(y_pred_probs, axis=1)\n",
        "\n",
        "# Nomes das classes para os relatórios\n",
        "class_labels = ['Ruim', 'Médio', 'Bom']\n",
        "\n",
        "# Relatório de Classificação\n",
        "print(\"\\nRelatório de Classificação:\")\n",
        "print(classification_report(y_test, y_pred_classes, target_names=class_labels))\n",
        "\n",
        "# Matriz de Confusão\n",
        "print(\"\\nMatriz de Confusão:\")\n",
        "cm = confusion_matrix(y_test, y_pred_classes)\n",
        "disp = ConfusionMatrixDisplay(confusion_matrix=cm, display_labels=class_labels)\n",
        "\n",
        "fig, ax = plt.subplots(figsize=(8, 6))\n",
        "disp.plot(ax=ax, cmap='Blues')\n",
        "plt.title('Matriz de Confusão no Conjunto de Teste')\n",
        "plt.show()"
      ],
      "metadata": {
        "colab": {
          "base_uri": "https://localhost:8080/",
          "height": 859
        },
        "id": "3P7-jJ0VyTJu",
        "outputId": "99a6ea92-1f31-4b67-f81b-731d2f48729b"
      },
      "id": "3P7-jJ0VyTJu",
      "execution_count": null,
      "outputs": [
        {
          "output_type": "stream",
          "name": "stdout",
          "text": [
            "\n",
            "--- Avaliação no Conjunto de Teste ---\n",
            "\u001b[1m41/41\u001b[0m \u001b[32m━━━━━━━━━━━━━━━━━━━━\u001b[0m\u001b[37m\u001b[0m \u001b[1m1s\u001b[0m 10ms/step\n",
            "\n",
            "Relatório de Classificação:\n",
            "              precision    recall  f1-score   support\n",
            "\n",
            "        Ruim       0.18      0.55      0.27        49\n",
            "       Médio       0.96      0.81      0.88      1211\n",
            "         Bom       0.17      0.57      0.26        40\n",
            "\n",
            "    accuracy                           0.79      1300\n",
            "   macro avg       0.44      0.64      0.47      1300\n",
            "weighted avg       0.91      0.79      0.84      1300\n",
            "\n",
            "\n",
            "Matriz de Confusão:\n"
          ]
        },
        {
          "output_type": "display_data",
          "data": {
            "text/plain": [
              "<Figure size 800x600 with 2 Axes>"
            ],
            "image/png": "[encoded data removed]"
          },
          "metadata": {}
        }
      ]
    }
  ],
  "metadata": {
    "kernelspec": {
      "display_name": "Python 3",
      "name": "python3"
    },
    "language_info": {
      "name": "python",
      "version": "3.x"
    },
    "colab": {
      "provenance": [],
      "gpuType": "T4"
    },
    "accelerator": "GPU"
  },
  "nbformat": 4,
  "nbformat_minor": 5
}