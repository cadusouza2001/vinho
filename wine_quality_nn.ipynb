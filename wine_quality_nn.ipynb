{
  "cells": [
    {
      "cell_type": "markdown",
      "metadata": {},
      "source": [
        "# Wine Quality Prediction\n",
        "Este notebook demonstra como treinar uma rede neural MLP para prever a qualidade de vinhos."
      ]
    },
    {
      "cell_type": "code",
      "execution_count": null,
      "metadata": {},
      "outputs": [],
      "source": [
        "!git clone https://github.com/cadusouza2001/vinho.git\n",
        "%cd vinho\n",
        "!pip install -q pandas scikit-learn tensorflow matplotlib\n"
      ]
    },
    {
      "cell_type": "markdown",
      "metadata": {},
      "source": [
        "## 1. Carregamento dos Dados\n",
        "Aqui carregamos os CSVs e unimos os dados de vinho tinto e branco."
      ]
    },
    {
      "cell_type": "code",
      "execution_count": null,
      "metadata": {},
      "outputs": [],
      "source": [
        "import pandas as pd\n",
        "# Leitura dos dois arquivos CSV de vinho tinto e branco\n",
        "red = pd.read_csv('winequality-red.csv', sep=';')\n",
        "white = pd.read_csv('winequality-white.csv', sep=';')\n",
        "# Unimos os DataFrames em um único conjunto de dados\n",
        "data = pd.concat([red, white], ignore_index=True)\n",
        "data.head()"
      ]
    },
    {
      "cell_type": "markdown",
      "metadata": {},
      "source": [
        "### Conceitos\n",
        "- **Aprendizado supervisionado**: usamos exemplos rotulados (qualidade) para treinar o modelo.\n",
        "- **Classificação multiclasse**: a variável alvo possui três classes (baixa, média e alta qualidade)."
      ]
    },
    {
      "cell_type": "markdown",
      "metadata": {},
      "source": [
        "## 2. Pré-processamento"
      ]
    },
    {
      "cell_type": "code",
      "execution_count": null,
      "metadata": {},
      "outputs": [],
      "source": [
        "from sklearn.model_selection import train_test_split\n",
        "from sklearn.preprocessing import StandardScaler\n",
        "\n",
        "# Transformar a qualidade em classes 0, 1, 2\n",
        "data['quality'] = data['quality'].apply(lambda q: 0 if q <=5 else (1 if q==6 else 2))\n",
        "\n",
        "# Separação de atributos e rótulos\n",
        "X = data.drop('quality', axis=1).values\n",
        "y = data['quality'].values\n",
        "\n",
        "# Padronização para média 0 e desvio 1 (importante para MLP)\n",
        "scaler = StandardScaler()\n",
        "X_scaled = scaler.fit_transform(X)\n",
        "\n",
        "# Divisão treino/teste de forma estratificada\n",
        "X_train, X_test, y_train, y_test = train_test_split(X_scaled, y, test_size=0.2, random_state=42, stratify=y)"
      ]
    },
    {
      "cell_type": "markdown",
      "metadata": {},
      "source": [
        "### Conceitos\n",
        "- **Normalização**: ajuda o treinamento do MLP.\n",
        "- **Divisão treino/teste**: parte dos dados é reservada para avaliar o modelo."
      ]
    },
    {
      "cell_type": "markdown",
      "metadata": {},
      "source": [
        "## 3. Construção do Modelo"
      ]
    },
    {
      "cell_type": "code",
      "execution_count": null,
      "metadata": {},
      "outputs": [],
      "source": [
        "from tensorflow.keras.models import Sequential\n",
        "from tensorflow.keras.layers import Dense, Dropout\n",
        "\n",
        "# Definição da arquitetura MLP com Dropout\n",
        "model = Sequential([\n",
        "    Dense(64, activation='relu', input_dim=X_train.shape[1]),\n",
        "    Dropout(0.2),\n",
        "    Dense(32, activation='relu'),\n",
        "    Dropout(0.2),\n",
        "    Dense(3, activation='softmax')\n",
        "])\n",
        "\n",
        "# Compilação define otimizador, perda e métrica\n",
        "model.compile(optimizer='adam', loss='sparse_categorical_crossentropy', metrics=['accuracy'])\n",
        "model.summary()"
      ]
    },
    {
      "cell_type": "markdown",
      "metadata": {},
      "source": [
        "### Conceitos\n",
        "- **Camadas e neurônios**: MLP com camadas densas.\n",
        "- **Função de ativação**: usamos ReLU e softmax.\n",
        "- **Dropout**: ajuda a reduzir overfitting."
      ]
    },
    {
      "cell_type": "markdown",
      "metadata": {},
      "source": [
        "## 4. Treinamento"
      ]
    },
    {
      "cell_type": "code",
      "execution_count": null,
      "metadata": {},
      "outputs": [],
      "source": [
        "import tensorflow as tf\n",
        "# Treinamento da rede com EarlyStopping para evitar overfitting\n",
        "history = model.fit(\n",
        "    X_train, y_train,\n",
        "    epochs=100,\n",
        "    batch_size=32,\n",
        "    validation_split=0.2,\n",
        "    callbacks=[tf.keras.callbacks.EarlyStopping(monitor='val_loss', patience=10, restore_best_weights=True)]\n",
        ")"
      ]
    },
    {
      "cell_type": "markdown",
      "metadata": {},
      "source": [
        "## 5. Avaliação"
      ]
    },
    {
      "cell_type": "code",
      "execution_count": null,
      "metadata": {},
      "outputs": [],
      "source": [
        "# Avaliação final no conjunto de teste\\n",
        "loss, acc = model.evaluate(X_test, y_test, verbose=0)\\n",
        "print(f\"Acurácia de teste: {acc:.4f}\")"
      ]
    },
    {
      "cell_type": "code",
      "execution_count": null,
      "metadata": {},
      "outputs": [],
      "source": [
        "import matplotlib.pyplot as plt\\n",
        "# Curvas de perda e acurácia para análise de overfitting\\n",
        "plt.figure(figsize=(12,4))\\n",
        "plt.subplot(1,2,1)\\n",
        "plt.plot(history.history[\"loss\"], label=\"train\")\\n",
        "plt.plot(history.history[\"val_loss\"], label=\"val\")\\n",
        "plt.xlabel(\"Epoch\")\\n",
        "plt.ylabel(\"Loss\")\\n",
        "plt.legend()\\n",
        "plt.subplot(1,2,2)\\n",
        "plt.plot(history.history[\"accuracy\"], label=\"train\")\\n",
        "plt.plot(history.history[\"val_accuracy\"], label=\"val\")\\n",
        "plt.xlabel(\"Epoch\")\\n",
        "plt.ylabel(\"Acurácia\")\\n",
        "plt.legend()\\n",
        "plt.show()"
      ]
    },
    {
      "cell_type": "markdown",
      "metadata": {},
      "source": [
        "### Conceitos\n",
        "- **Crossentropy** como função de custo.\n",
        "- **Acurácia** como métrica de desempenho.\n",
        "- **Overfitting** monitorado via validação."
      ]
    },
    {
      "cell_type": "markdown",
      "metadata": {},
      "source": [
        "## 6. Matriz de Confusão"
      ]
    },
    {
      "cell_type": "code",
      "execution_count": null,
      "metadata": {},
      "outputs": [],
      "source": [
        "from sklearn.metrics import confusion_matrix, ConfusionMatrixDisplay\\n",
        "# Predição no teste e visualização da matriz de confusão\\n",
        "y_pred = model.predict(X_test).argmax(axis=1)\\n",
        "cm = confusion_matrix(y_test, y_pred)\\n",
        "disp = ConfusionMatrixDisplay(cm)\\n",
        "disp.plot()\\n",
        "plt.show()"
      ]
    }
  ],
  "metadata": {
    "kernelspec": {
      "display_name": "Python 3",
      "language": "python",
      "name": "python3"
    },
    "language_info": {
      "name": "python",
      "version": "3.x"
    }
  },
  "nbformat": 4,
  "nbformat_minor": 5
}
